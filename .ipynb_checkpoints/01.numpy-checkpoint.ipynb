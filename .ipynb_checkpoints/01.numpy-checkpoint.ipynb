{
 "cells": [
  {
   "cell_type": "code",
   "execution_count": 1,
   "id": "b6dda620-1586-4230-b139-befca05868b5",
   "metadata": {},
   "outputs": [],
   "source": [
    "vet =[]"
   ]
  },
  {
   "cell_type": "code",
   "execution_count": 3,
   "id": "97d13353-90fd-4e1c-b11f-c8bdff7fcfbe",
   "metadata": {},
   "outputs": [],
   "source": [
    "vet =[1,2,3,4,8,7]"
   ]
  },
  {
   "cell_type": "code",
   "execution_count": 9,
   "id": "8410ac67-fb24-4e04-aabd-4e33dc084ac9",
   "metadata": {},
   "outputs": [
    {
     "name": "stdout",
     "output_type": "stream",
     "text": [
      "[1, 2, 3, 4, 8, 7]\n"
     ]
    }
   ],
   "source": [
    "print(vet)"
   ]
  },
  {
   "cell_type": "code",
   "execution_count": 11,
   "id": "f9b3d41a-1371-4760-977e-5e9eacf53534",
   "metadata": {},
   "outputs": [
    {
     "name": "stdout",
     "output_type": "stream",
     "text": [
      "valor: 1\n",
      "valor: 2\n",
      "valor: 3\n",
      "valor: 4\n",
      "valor: 8\n",
      "valor: 7\n"
     ]
    }
   ],
   "source": [
    "for i in vet:\n",
    "    print(f\"valor: {i}\")"
   ]
  },
  {
   "cell_type": "code",
   "execution_count": 84,
   "id": "02252ec3-6376-4fec-8bf5-004adf66b10b",
   "metadata": {},
   "outputs": [
    {
     "name": "stdout",
     "output_type": "stream",
     "text": [
      "soma do vetor1: 55\n"
     ]
    }
   ],
   "source": [
    "vetor1 = [1,2,3,4,5,6,7,8,9,10]\n",
    "vetor2 = [1,2,3,4,5,6,7,8,9,10]\n",
    "soma = 0\n",
    "somavetor1 = 0\n",
    "somavetor2 = 0\n",
    "\n",
    "for i in vetor1:\n",
    "    somavetor1 += i\n",
    "print((f\"soma do vetor1: {soma}\"))\n",
    "\n",
    "for i in vetor2:\n",
    "    somavetor2 += i\n",
    "print((f\"soma do vetor2: {soma}\"))\n",
    "\n",
    "\n"
   ]
  },
  {
   "cell_type": "code",
   "execution_count": 110,
   "id": "19f1140a-72b3-4163-beda-4c7cfc1636d6",
   "metadata": {},
   "outputs": [
    {
     "name": "stdout",
     "output_type": "stream",
     "text": [
      "[1, 4, 9, 16, 25, 36, 49, 64, 81, 100]\n"
     ]
    }
   ],
   "source": [
    "posicao_elemento = []\n",
    "\n",
    "for c in range(len(vetor2)):\n",
    "    posicao_elemento.append(vetor2[c] * vetor1[c])\n",
    "    \n",
    "print(posicao_elemento)\n",
    "\n"
   ]
  },
  {
   "cell_type": "code",
   "execution_count": 118,
   "id": "d02f2fa8-8c53-4625-b62d-c54d188d3086",
   "metadata": {},
   "outputs": [],
   "source": [
    "import numpy as np"
   ]
  },
  {
   "cell_type": "code",
   "execution_count": 125,
   "id": "2ba23d45-6389-4c8f-b5e4-afccff72219b",
   "metadata": {},
   "outputs": [
    {
     "name": "stdout",
     "output_type": "stream",
     "text": [
      "[ 1  2  3  4  5  6  7  8  9 10]\n"
     ]
    }
   ],
   "source": [
    "array = np.array(vetor1)\n",
    "print(array)\n",
    "resultado = array * 2\n",
    "\n"
   ]
  },
  {
   "cell_type": "code",
   "execution_count": 129,
   "id": "f24cae8d-ccd4-418d-812b-3034bb5d2e27",
   "metadata": {},
   "outputs": [
    {
     "data": {
      "text/plain": [
       "dtype('int32')"
      ]
     },
     "execution_count": 129,
     "metadata": {},
     "output_type": "execute_result"
    }
   ],
   "source": [
    "array.shape\n",
    "array.dtype"
   ]
  },
  {
   "cell_type": "code",
   "execution_count": 272,
   "id": "ea8ffe87-7ebb-438f-935c-d9e350993de5",
   "metadata": {},
   "outputs": [
    {
     "name": "stdout",
     "output_type": "stream",
     "text": [
      "Soma 1º: 6\n",
      "Soma 2º: 15\n",
      "Produto el a el: [ 4 10 18]\n",
      "soma:  [5 7 9]\n",
      "Média:  7.0\n"
     ]
    }
   ],
   "source": [
    "a = np.array(vetor1)\n",
    "b = np.array(vetor2)\n",
    "\n",
    "print(f\"Soma 1º: {a.sum()}\")\n",
    "print(f\"Soma 2º: {b.sum()}\")\n",
    "print(f\"Produto el a el: {a * b}\")\n",
    "soma = a + b\n",
    "\n",
    "print(f\"soma:  {soma}\")\n",
    "print(f\"Media:  {soma.mean()}\")\n",
    "\n"
   ]
  },
  {
   "cell_type": "code",
   "execution_count": 230,
   "id": "b87dfa0c-c060-459b-b4c8-d86e91430a29",
   "metadata": {},
   "outputs": [
    {
     "name": "stdout",
     "output_type": "stream",
     "text": [
      "Lista: 1.1377558708190918\n",
      "Array np: 0.013215303421020508\n",
      "Numpy é 86.09381370762597 x mais rápido\n"
     ]
    }
   ],
   "source": [
    "import numpy as np\n",
    "import time\n",
    "\n",
    "#com listas\n",
    "def benchmark_listas(n):\n",
    "    a = list(range(n))\n",
    "    b = list(range(n))\n",
    "    start = time.time()\n",
    "    c = [a[i] + b[i] for i in range(n)]\n",
    "    return time.time() - start\n",
    "\n",
    "def benchmark_np(n):\n",
    "    a = np.arange(n)\n",
    "    b = np.arange(n)\n",
    "    start = time.time()\n",
    "    c = a + b\n",
    "    return time.time() - start\n",
    "    \n",
    "tamanho = 10_000_000\n",
    "tempo_lista = benchmark_listas(tamanho)\n",
    "tempo_np = benchmark_np(tamanho)\n",
    "\n",
    "print(f\"Lista: {tempo_lista}\")\n",
    "print(f\"Array np: {tempo_np}\")\n",
    "print(f\"Numpy é {(tempo_lista / tempo_np)} x mais rápido\")"
   ]
  },
  {
   "cell_type": "code",
   "execution_count": 228,
   "id": "30a17d4d-e2d2-4905-82de-c92e690879c4",
   "metadata": {},
   "outputs": [],
   "source": [
    "import matplotlib.pyplot as plt\n",
    "\n",
    "tamanhos = [1_000,10_000,100_000,1000_000,10_000_00]\n",
    "tempos_lista = [benchmark_listas(n) for n in tamanhos]\n",
    "tempos_np = [benchmark_np(n) for n in tamanhos]"
   ]
  },
  {
   "cell_type": "code",
   "execution_count": 242,
   "id": "5e7095ec-6ed9-405e-b7da-193252bf0287",
   "metadata": {},
   "outputs": [
    {
     "data": {
      "image/png": "[encoded data removed]",
      "text/plain": [
       "<Figure size 640x480 with 1 Axes>"
      ]
     },
     "metadata": {},
     "output_type": "display_data"
    }
   ],
   "source": [
    "plt.plot(tamanhos, tempos_lista, label='Listas em Python', marker='o')\n",
    "plt.plot(tamanhos, tempos_np, label='Arrys Numpy', marker='s')\n",
    "plt.xlabel('Tamanho do vetor')\n",
    "plt.xlabel('Tempo (s)')\n",
    "plt.title('Desempelho: listas vs NumPy')\n",
    "plt.legend()\n",
    "plt.grid(True)\n",
    "plt.show()"
   ]
  },
  {
   "cell_type": "code",
   "execution_count": 250,
   "id": "08c23439-d2ff-4c98-bc14-4650dad1a49f",
   "metadata": {},
   "outputs": [
    {
     "name": "stdout",
     "output_type": "stream",
     "text": [
      "Maiores que 5: [False False False False False  True  True]\n",
      "Igual a 2: [False  True False False False False False]\n",
      "Menor ou igual a 2: [ True  True False False False False False]\n"
     ]
    }
   ],
   "source": [
    "import numpy as np\n",
    "\n",
    "array = np.array([1,2,3,4,5,7,8,])\n",
    "#comparacão retorno arrays booleans\n",
    "print(f\"Maiores que 5: {array > 5}\")\n",
    "print(f\"Igual a 2: {array == 2}\")\n",
    "print(f\"Menor ou igual a 2: {array <= 2}\")"
   ]
  },
  {
   "cell_type": "code",
   "execution_count": 256,
   "id": "91288bc4-6531-431f-b6da-89983d25343c",
   "metadata": {},
   "outputs": [
    {
     "name": "stdout",
     "output_type": "stream",
     "text": [
      "Maior que 3 e menor que 7: [4 5 6]\n",
      "Menor que 3 ou maior que 7: [ 1  2  8  9 10]\n",
      "Diferente de 7: [ 1  2  3  4  5  6  8  9 10]\n",
      "Todos os elementos são maiores que -2: True\n",
      "Algum elemento é 10: True\n"
     ]
    }
   ],
   "source": [
    "import numpy as np\n",
    "\n",
    "array = np.array([1, 2, 3, 4, 5, 6, 7, 8, 9, 10])\n",
    "\n",
    "# Maior que 3 e menor que 7\n",
    "filtro = (array > 3) & (array < 7)\n",
    "print(f\"Maior que 3 e menor que 7: {array[filtro]}\")\n",
    "\n",
    "# Menores que 3 ou maiores que 7 (corrigido: era impossível ser menor que 3 E maior que 7)\n",
    "filtro = (array < 3) | (array > 7)\n",
    "print(f\"Menor que 3 ou maior que 7: {array[filtro]}\")\n",
    "\n",
    "# Negação para 7 (diferente de 7)\n",
    "filtro = ~(array == 7)\n",
    "print(f\"Diferente de 7: {array[filtro]}\")\n",
    "\n",
    "# Verificar se todos os valores são maiores que -2\n",
    "print(f\"Todos os elementos são maiores que -2: {np.all(array > -2)}\")\n",
    "\n",
    "# Verificar se temos o número 10\n",
    "print(f\"Algum elemento é 10: {np.any(array == 10)}\")\n"
   ]
  },
  {
   "cell_type": "code",
   "execution_count": 258,
   "id": "e13fba06-eb72-4032-a5d7-15d38010f85e",
   "metadata": {
    "scrolled": true
   },
   "outputs": [
    {
     "name": "stdout",
     "output_type": "stream",
     "text": [
      "[4 5 6]\n"
     ]
    }
   ],
   "source": [
    "print(array[3:6])"
   ]
  },
  {
   "cell_type": "code",
   "execution_count": null,
   "id": "446f5cbd-7d48-4418-8b74-b08dc09f7ec4",
   "metadata": {},
   "outputs": [],
   "source": [
    "#Listaexercicios 15/09"
   ]
  },
  {
   "cell_type": "code",
   "execution_count": 42,
   "id": "ad86e3b5-d04d-400a-932d-f66999702313",
   "metadata": {},
   "outputs": [
    {
     "name": "stdout",
     "output_type": "stream",
     "text": [
      "array com 10 elementos somente com valores 5: [5 5 5 5 5 5 5 5 5 5]\n",
      "array com 10 elementos somente com valores de 0 a 9: [0 1 2 3 4 5 6 7 8 9]\n",
      "Matriz 3x3 valores aleatórios entre 0 e 1: [[0.73566581 0.37070592 0.04325679]\n",
      " [0.16466607 0.99399048 0.5583957 ]\n",
      " [0.14693063 0.12961709 0.73200909]]\n",
      "Array de 5 elementos entre True e False: [ True False  True False  True]\n"
     ]
    }
   ],
   "source": [
    "#exercicios 1\n",
    "import numpy as np\n",
    "\n",
    "array_somente_com_5 = np.array([5,5,5,5,5,5,5,5,5,5])\n",
    "array_com_9_elementos = np.array([0,1,2,3,4,5,6,7,8,9])\n",
    "matriz_aleatoria = np.random.rand(3, 3)\n",
    "array_true_false = np.array([True, False, True, False, True ])\n",
    "\n",
    "print(f\"array com 10 elementos somente com valores 5: {array_somente_com_5}\")\n",
    "print(f\"array com 10 elementos somente com valores de 0 a 9: {array_com_9_elementos}\")\n",
    "print(f\"Matriz 3x3 valores aleatórios entre 0 e 1: {matriz_aleatoria}\")\n",
    "print(f\"Array de 5 elementos entre True e False: {array_true_false}\")\n"
   ]
  },
  {
   "cell_type": "code",
   "execution_count": 37,
   "id": "8fa1cd43-e9c3-4246-8f1c-cc643e03d2ba",
   "metadata": {},
   "outputs": [
    {
     "name": "stdout",
     "output_type": "stream",
     "text": [
      "Soma: [12 25 36 48]\n",
      "Multiplicação: [ 50 100 150 200]\n",
      "Divisão: [5. 4. 0. 5.]\n",
      "Seno: [-0.54402111  0.91294525 -0.98803162  0.74511316]\n",
      "Cosseno: [-0.83907153  0.40808206  0.15425145 -0.66693806]\n"
     ]
    }
   ],
   "source": [
    "#operações básicas\n",
    "\n",
    "array_a = np.array([10, 20, 30, 40])\n",
    "array_b = np.array([2, 5, 6, 8])\n",
    "\n",
    "# Soma os dois arrays.\n",
    "soma_arrays = array_a + array_b\n",
    "print(f\"Soma: {soma_arrays}\")\n",
    "\n",
    "# Multiplique por um escalar.\n",
    "array_multiplicado = array_a * 5\n",
    "print(f\"Multiplicação: {array_multiplicado}\")\n",
    "\n",
    "# Divida um array por outro, tratando divisão por zero.\n",
    "array_divisor = np.array([2, 5, 0, 8])\n",
    "divisao_arrays = np.divide(array_a, array_divisor, where=array_divisor!=0)\n",
    "print(f\"Divisão: {divisao_arrays}\")\n",
    "\n",
    "seno_array = np.sin(array_a)\n",
    "cosseno_array = np.cos(array_a)\n",
    "print(f\"Seno: {seno_array}\")\n",
    "print(f\"Cosseno: {cosseno_array}\")\n"
   ]
  },
  {
   "cell_type": "code",
   "execution_count": 38,
   "id": "dc4fe395-219a-4cef-b5f1-72d8b4657dde",
   "metadata": {},
   "outputs": [
    {
     "name": "stdout",
     "output_type": "stream",
     "text": [
      "Matriz de exemplo:\n",
      " [[10 11 12]\n",
      " [20 21 22]\n",
      " [30 31 32]]\n",
      "Elemento [1, 2]: 22\n",
      "Última linha: [30 31 32]\n",
      "Vetor invertido: [5 4 3 2 1]\n",
      "Fatia da matriz:\n",
      " [[11 12]\n",
      " [21 22]]\n"
     ]
    }
   ],
   "source": [
    "# ATIVIDADE 3\n",
    "minha_matriz = np.array([[10, 11, 12], [20, 21, 22], [30, 31, 32]])\n",
    "print(f\"Matriz de exemplo:\\n {minha_matriz}\")\n",
    "\n",
    "# Acessar o elemento na segunda linha e terceira coluna.\n",
    "elemento = minha_matriz[1, 2]\n",
    "print(f\"Elemento [1, 2]: {elemento}\")\n",
    "\n",
    "# Extrair a última linha.\n",
    "ultima_linha = minha_matriz[-1]\n",
    "print(f\"Última linha: {ultima_linha}\")\n",
    "\n",
    "# Inverter a ordem de um vetor.\n",
    "vetor = np.array([1, 2, 3, 4, 5])\n",
    "vetor_invertido = vetor[::-1]\n",
    "print(f\"Vetor invertido: {vetor_invertido}\")\n",
    "\n",
    "# Criar uma nova matriz a partir de uma fatia.\n",
    "fatia_matriz = minha_matriz[0:2, 1:3]\n",
    "print(f\"Fatia da matriz:\\n {fatia_matriz}\")\n",
    "\n"
   ]
  },
  {
   "cell_type": "code",
   "execution_count": 40,
   "id": "3f4fd028-6ad5-4c50-9a43-200f19cf3fb0",
   "metadata": {},
   "outputs": [
    {
     "name": "stdout",
     "output_type": "stream",
     "text": [
      "Array sem números negativos: [ 1  0  0 10 15  0]\n",
      "Matriz com a primeira linha multiplicada por 2: [[2 4 6]\n",
      " [4 5 6]\n",
      " [7 8 9]]\n",
      "Matriz antes da troca: [[10 11 12]\n",
      " [13 14 15]\n",
      " [16 17 18]]\n",
      "Matriz com as linhas trocadas: [[16 17 18]\n",
      " [13 14 15]\n",
      " [10 11 12]]\n"
     ]
    }
   ],
   "source": [
    "# ATIVDADE 4\n",
    "\n",
    "array_com_negativos = np.array([1, -5, -20, 10, 15, -3])\n",
    "array_com_negativos[array_com_negativos < 0] = 0\n",
    "print(f\"Array sem números negativos: {array_com_negativos}\")\n",
    "\n",
    "\n",
    "matriz_para_modificar = np.array([[1, 2, 3], [4, 5, 6], [7, 8, 9]])\n",
    "matriz_para_modificar[0] = matriz_para_modificar[0] * 2\n",
    "print(f\"Matriz com a primeira linha multiplicada por 2: {matriz_para_modificar}\")\n",
    "\n",
    "\n",
    "matriz_para_trocar = np.array([[10, 11, 12], [13, 14, 15], [16, 17, 18]])\n",
    "print(f\"Matriz antes da troca: {matriz_para_trocar}\")\n",
    "matriz_para_trocar[[0, -1]] = matriz_para_trocar[[-1, 0]]\n",
    "print(f\"Matriz com as linhas trocadas: {matriz_para_trocar}\")"
   ]
  },
  {
   "cell_type": "code",
   "execution_count": null,
   "id": "f17c1b48-0672-4c02-b19c-8ca123bf3b93",
   "metadata": {},
   "outputs": [],
   "source": []
  }
 ],
 "metadata": {
  "kernelspec": {
   "display_name": "Python 3 (ipykernel)",
   "language": "python",
   "name": "python3"
  },
  "language_info": {
   "codemirror_mode": {
    "name": "ipython",
    "version": 3
   },
   "file_extension": ".py",
   "mimetype": "text/x-python",
   "name": "python",
   "nbconvert_exporter": "python",
   "pygments_lexer": "ipython3",
   "version": "3.13.7"
  }
 },
 "nbformat": 4,
 "nbformat_minor": 5
}
