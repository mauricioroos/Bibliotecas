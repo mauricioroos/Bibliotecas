{
 "cells": [
  {
   "cell_type": "code",
   "execution_count": 3,
   "id": "0c7d69af-fb4e-4428-aeca-0404dc384a73",
   "metadata": {},
   "outputs": [],
   "source": [
    "import pandas as pd"
   ]
  },
  {
   "cell_type": "code",
   "execution_count": 123,
   "id": "ca277063-da09-4621-91f8-7ab2f2f6d847",
   "metadata": {},
   "outputs": [],
   "source": [
    "dados = {\n",
    "    'Nome': ['Ana', 'Kauan', 'Stephane', 'Lucas', 'Mauricio'],\n",
    "    'Idade': [22, 23, 24, 22, 30],\n",
    "    'Cidade': ['Jaraguá', 'Jaraguá', 'Parnaiba', 'Guaramirim', 'Porto Alegre']\n",
    "}"
   ]
  },
  {
   "cell_type": "code",
   "execution_count": 67,
   "id": "978f4a7f-f6bf-419e-a98d-c45194d99480",
   "metadata": {},
   "outputs": [],
   "source": [
    "df = pd.DataFrame(dados)"
   ]
  },
  {
   "cell_type": "code",
   "execution_count": 125,
   "id": "b9dda31d-4cdd-4b91-b27c-f68b8448f187",
   "metadata": {},
   "outputs": [
    {
     "data": {
      "text/html": [
       "<div>\n",
       "<style scoped>\n",
       "    .dataframe tbody tr th:only-of-type {\n",
       "        vertical-align: middle;\n",
       "    }\n",
       "\n",
       "    .dataframe tbody tr th {\n",
       "        vertical-align: top;\n",
       "    }\n",
       "\n",
       "    .dataframe thead th {\n",
       "        text-align: right;\n",
       "    }\n",
       "</style>\n",
       "<table border=\"1\" class=\"dataframe\">\n",
       "  <thead>\n",
       "    <tr style=\"text-align: right;\">\n",
       "      <th></th>\n",
       "      <th>Nome Completo</th>\n",
       "      <th>Idade</th>\n",
       "      <th>Cidade</th>\n",
       "      <th>Salário</th>\n",
       "      <th>Idade em 10 anos</th>\n",
       "    </tr>\n",
       "  </thead>\n",
       "  <tbody>\n",
       "    <tr>\n",
       "      <th>0</th>\n",
       "      <td>Ana</td>\n",
       "      <td>22</td>\n",
       "      <td>Jaraguá</td>\n",
       "      <td>2000.0</td>\n",
       "      <td>32</td>\n",
       "    </tr>\n",
       "    <tr>\n",
       "      <th>1</th>\n",
       "      <td>Kauan</td>\n",
       "      <td>23</td>\n",
       "      <td>Schroeder</td>\n",
       "      <td>3500.0</td>\n",
       "      <td>33</td>\n",
       "    </tr>\n",
       "    <tr>\n",
       "      <th>2</th>\n",
       "      <td>Stephane</td>\n",
       "      <td>24</td>\n",
       "      <td>Parnaiba</td>\n",
       "      <td>7250.0</td>\n",
       "      <td>34</td>\n",
       "    </tr>\n",
       "    <tr>\n",
       "      <th>3</th>\n",
       "      <td>Lucas</td>\n",
       "      <td>22</td>\n",
       "      <td>Guaramirim</td>\n",
       "      <td>50000.0</td>\n",
       "      <td>32</td>\n",
       "    </tr>\n",
       "    <tr>\n",
       "      <th>4</th>\n",
       "      <td>Mauricio</td>\n",
       "      <td>30</td>\n",
       "      <td>Porto Alegre</td>\n",
       "      <td>NaN</td>\n",
       "      <td>40</td>\n",
       "    </tr>\n",
       "  </tbody>\n",
       "</table>\n",
       "</div>"
      ],
      "text/plain": [
       "  Nome Completo  Idade        Cidade  Salário  Idade em 10 anos\n",
       "0           Ana     22       Jaraguá   2000.0                32\n",
       "1         Kauan     23     Schroeder   3500.0                33\n",
       "2      Stephane     24      Parnaiba   7250.0                34\n",
       "3         Lucas     22    Guaramirim  50000.0                32\n",
       "4      Mauricio     30  Porto Alegre      NaN                40"
      ]
     },
     "execution_count": 125,
     "metadata": {},
     "output_type": "execute_result"
    }
   ],
   "source": [
    "df"
   ]
  },
  {
   "cell_type": "code",
   "execution_count": 127,
   "id": "f218051c-44cf-4806-9780-a52e1d0e7c71",
   "metadata": {},
   "outputs": [
    {
     "data": {
      "text/html": [
       "<div>\n",
       "<style scoped>\n",
       "    .dataframe tbody tr th:only-of-type {\n",
       "        vertical-align: middle;\n",
       "    }\n",
       "\n",
       "    .dataframe tbody tr th {\n",
       "        vertical-align: top;\n",
       "    }\n",
       "\n",
       "    .dataframe thead th {\n",
       "        text-align: right;\n",
       "    }\n",
       "</style>\n",
       "<table border=\"1\" class=\"dataframe\">\n",
       "  <thead>\n",
       "    <tr style=\"text-align: right;\">\n",
       "      <th></th>\n",
       "      <th>Nome Completo</th>\n",
       "      <th>Idade</th>\n",
       "      <th>Cidade</th>\n",
       "      <th>Salário</th>\n",
       "      <th>Idade em 10 anos</th>\n",
       "    </tr>\n",
       "  </thead>\n",
       "  <tbody>\n",
       "    <tr>\n",
       "      <th>0</th>\n",
       "      <td>Ana</td>\n",
       "      <td>22</td>\n",
       "      <td>Jaraguá</td>\n",
       "      <td>2000.0</td>\n",
       "      <td>32</td>\n",
       "    </tr>\n",
       "    <tr>\n",
       "      <th>1</th>\n",
       "      <td>Kauan</td>\n",
       "      <td>23</td>\n",
       "      <td>Schroeder</td>\n",
       "      <td>3500.0</td>\n",
       "      <td>33</td>\n",
       "    </tr>\n",
       "  </tbody>\n",
       "</table>\n",
       "</div>"
      ],
      "text/plain": [
       "  Nome Completo  Idade     Cidade  Salário  Idade em 10 anos\n",
       "0           Ana     22    Jaraguá   2000.0                32\n",
       "1         Kauan     23  Schroeder   3500.0                33"
      ]
     },
     "execution_count": 127,
     "metadata": {},
     "output_type": "execute_result"
    }
   ],
   "source": [
    "df.head(2)"
   ]
  },
  {
   "cell_type": "code",
   "execution_count": 129,
   "id": "664c16e6-521e-486a-bad0-b6aa3177f53d",
   "metadata": {},
   "outputs": [
    {
     "data": {
      "text/html": [
       "<div>\n",
       "<style scoped>\n",
       "    .dataframe tbody tr th:only-of-type {\n",
       "        vertical-align: middle;\n",
       "    }\n",
       "\n",
       "    .dataframe tbody tr th {\n",
       "        vertical-align: top;\n",
       "    }\n",
       "\n",
       "    .dataframe thead th {\n",
       "        text-align: right;\n",
       "    }\n",
       "</style>\n",
       "<table border=\"1\" class=\"dataframe\">\n",
       "  <thead>\n",
       "    <tr style=\"text-align: right;\">\n",
       "      <th></th>\n",
       "      <th>Nome Completo</th>\n",
       "      <th>Idade</th>\n",
       "      <th>Cidade</th>\n",
       "      <th>Salário</th>\n",
       "      <th>Idade em 10 anos</th>\n",
       "    </tr>\n",
       "  </thead>\n",
       "  <tbody>\n",
       "    <tr>\n",
       "      <th>3</th>\n",
       "      <td>Lucas</td>\n",
       "      <td>22</td>\n",
       "      <td>Guaramirim</td>\n",
       "      <td>50000.0</td>\n",
       "      <td>32</td>\n",
       "    </tr>\n",
       "    <tr>\n",
       "      <th>4</th>\n",
       "      <td>Mauricio</td>\n",
       "      <td>30</td>\n",
       "      <td>Porto Alegre</td>\n",
       "      <td>NaN</td>\n",
       "      <td>40</td>\n",
       "    </tr>\n",
       "  </tbody>\n",
       "</table>\n",
       "</div>"
      ],
      "text/plain": [
       "  Nome Completo  Idade        Cidade  Salário  Idade em 10 anos\n",
       "3         Lucas     22    Guaramirim  50000.0                32\n",
       "4      Mauricio     30  Porto Alegre      NaN                40"
      ]
     },
     "execution_count": 129,
     "metadata": {},
     "output_type": "execute_result"
    }
   ],
   "source": [
    "df.tail(2)"
   ]
  },
  {
   "cell_type": "code",
   "execution_count": 131,
   "id": "3a491604-c667-4f89-84f5-5a1d681b4bf3",
   "metadata": {},
   "outputs": [
    {
     "data": {
      "text/plain": [
       "0    22\n",
       "1    23\n",
       "2    24\n",
       "3    22\n",
       "4    30\n",
       "Name: Idade, dtype: int64"
      ]
     },
     "execution_count": 131,
     "metadata": {},
     "output_type": "execute_result"
    }
   ],
   "source": [
    "df.iloc[:,1] #Acessa por posição"
   ]
  },
  {
   "cell_type": "code",
   "execution_count": 133,
   "id": "c4f73981-0551-45d5-bc27-81338bb9d13a",
   "metadata": {},
   "outputs": [
    {
     "data": {
      "text/plain": [
       "24.2"
      ]
     },
     "execution_count": 133,
     "metadata": {},
     "output_type": "execute_result"
    }
   ],
   "source": [
    "df['Idade'].mean()"
   ]
  },
  {
   "cell_type": "code",
   "execution_count": 135,
   "id": "ef792158-d6f0-4604-8323-a77a00ea362b",
   "metadata": {},
   "outputs": [
    {
     "data": {
      "text/plain": [
       "23.0"
      ]
     },
     "execution_count": 135,
     "metadata": {},
     "output_type": "execute_result"
    }
   ],
   "source": [
    "df['Idade'].median()"
   ]
  },
  {
   "cell_type": "code",
   "execution_count": 25,
   "id": "9fcf7aa2-c3e9-4866-8671-e17debc9d505",
   "metadata": {},
   "outputs": [
    {
     "data": {
      "text/plain": [
       "0    22\n",
       "1    23\n",
       "2    24\n",
       "Name: Idade, dtype: int64"
      ]
     },
     "execution_count": 25,
     "metadata": {},
     "output_type": "execute_result"
    }
   ],
   "source": [
    "df.Idade"
   ]
  },
  {
   "cell_type": "code",
   "execution_count": null,
   "id": "88039eb6-74b5-426a-9f94-106f2dd95f23",
   "metadata": {},
   "outputs": [],
   "source": [
    "df.loc[:3, 'Nome']"
   ]
  },
  {
   "cell_type": "code",
   "execution_count": 43,
   "id": "f5bcd886-7cfd-4ecb-95f8-7e2f5a508559",
   "metadata": {},
   "outputs": [
    {
     "data": {
      "text/html": [
       "<div>\n",
       "<style scoped>\n",
       "    .dataframe tbody tr th:only-of-type {\n",
       "        vertical-align: middle;\n",
       "    }\n",
       "\n",
       "    .dataframe tbody tr th {\n",
       "        vertical-align: top;\n",
       "    }\n",
       "\n",
       "    .dataframe thead th {\n",
       "        text-align: right;\n",
       "    }\n",
       "</style>\n",
       "<table border=\"1\" class=\"dataframe\">\n",
       "  <thead>\n",
       "    <tr style=\"text-align: right;\">\n",
       "      <th></th>\n",
       "      <th>Nome</th>\n",
       "      <th>Idade</th>\n",
       "      <th>Cidade</th>\n",
       "    </tr>\n",
       "  </thead>\n",
       "  <tbody>\n",
       "    <tr>\n",
       "      <th>1</th>\n",
       "      <td>Kauan</td>\n",
       "      <td>23</td>\n",
       "      <td>Schroeder</td>\n",
       "    </tr>\n",
       "    <tr>\n",
       "      <th>2</th>\n",
       "      <td>Stephane</td>\n",
       "      <td>24</td>\n",
       "      <td>Parnaiba</td>\n",
       "    </tr>\n",
       "  </tbody>\n",
       "</table>\n",
       "</div>"
      ],
      "text/plain": [
       "       Nome  Idade     Cidade\n",
       "1     Kauan     23  Schroeder\n",
       "2  Stephane     24   Parnaiba"
      ]
     },
     "execution_count": 43,
     "metadata": {},
     "output_type": "execute_result"
    }
   ],
   "source": [
    "df.loc[df['Idade'] > 22]"
   ]
  },
  {
   "cell_type": "code",
   "execution_count": 45,
   "id": "4b778438-b98e-4f80-b8e3-59dbb50f0de2",
   "metadata": {},
   "outputs": [
    {
     "name": "stdout",
     "output_type": "stream",
     "text": [
      "Kauan\n"
     ]
    }
   ],
   "source": [
    "segunda_pessoa = df.iloc[1,0]\n",
    "print(segunda_pessoa)"
   ]
  },
  {
   "cell_type": "code",
   "execution_count": 77,
   "id": "bf68a942-e7d1-4a5b-a145-630fda731067",
   "metadata": {},
   "outputs": [
    {
     "data": {
      "text/html": [
       "<div>\n",
       "<style scoped>\n",
       "    .dataframe tbody tr th:only-of-type {\n",
       "        vertical-align: middle;\n",
       "    }\n",
       "\n",
       "    .dataframe tbody tr th {\n",
       "        vertical-align: top;\n",
       "    }\n",
       "\n",
       "    .dataframe thead th {\n",
       "        text-align: right;\n",
       "    }\n",
       "</style>\n",
       "<table border=\"1\" class=\"dataframe\">\n",
       "  <thead>\n",
       "    <tr style=\"text-align: right;\">\n",
       "      <th></th>\n",
       "      <th>Nome</th>\n",
       "      <th>Cidade</th>\n",
       "    </tr>\n",
       "  </thead>\n",
       "  <tbody>\n",
       "    <tr>\n",
       "      <th>4</th>\n",
       "      <td>Mauricio</td>\n",
       "      <td>Porto Alegre</td>\n",
       "    </tr>\n",
       "  </tbody>\n",
       "</table>\n",
       "</div>"
      ],
      "text/plain": [
       "       Nome        Cidade\n",
       "4  Mauricio  Porto Alegre"
      ]
     },
     "execution_count": 77,
     "metadata": {},
     "output_type": "execute_result"
    }
   ],
   "source": [
    "#Selecione a coluna nome e as duas primeiras linhas\n",
    "\n",
    "df.loc[:1, 'Nome'] \n",
    "#Filtra pessoas com mais de 25 anos e mostra apenas nome e cidade\n",
    "\n",
    "df.loc[df['Idade'] > 25, ['Nome', 'Cidade']]\n"
   ]
  },
  {
   "cell_type": "code",
   "execution_count": 91,
   "id": "7d8e31ad-c4d0-40f7-b0b2-8f8aac265d07",
   "metadata": {},
   "outputs": [],
   "source": [
    "import numpy as np\n",
    "df['Salário'] = [2_000, 3_500, 7_250.00, 50_000.00, np.nan]"
   ]
  },
  {
   "cell_type": "code",
   "execution_count": 93,
   "id": "3a2f2c9f-e831-4276-a5a0-b584165746a9",
   "metadata": {},
   "outputs": [],
   "source": [
    "df['Idade em 10 anos'] = df['Idade'] + 10"
   ]
  },
  {
   "cell_type": "code",
   "execution_count": 141,
   "id": "c62f7d04-ec3d-439e-be42-0a8e6b029b57",
   "metadata": {},
   "outputs": [
    {
     "data": {
      "text/html": [
       "<div>\n",
       "<style scoped>\n",
       "    .dataframe tbody tr th:only-of-type {\n",
       "        vertical-align: middle;\n",
       "    }\n",
       "\n",
       "    .dataframe tbody tr th {\n",
       "        vertical-align: top;\n",
       "    }\n",
       "\n",
       "    .dataframe thead th {\n",
       "        text-align: right;\n",
       "    }\n",
       "</style>\n",
       "<table border=\"1\" class=\"dataframe\">\n",
       "  <thead>\n",
       "    <tr style=\"text-align: right;\">\n",
       "      <th></th>\n",
       "      <th>Nome Completo</th>\n",
       "      <th>Idade</th>\n",
       "      <th>Cidade</th>\n",
       "      <th>Salário</th>\n",
       "      <th>Idade em 10 anos</th>\n",
       "    </tr>\n",
       "  </thead>\n",
       "  <tbody>\n",
       "    <tr>\n",
       "      <th>0</th>\n",
       "      <td>Ana</td>\n",
       "      <td>22</td>\n",
       "      <td>Jaraguá</td>\n",
       "      <td>2000.0</td>\n",
       "      <td>32</td>\n",
       "    </tr>\n",
       "    <tr>\n",
       "      <th>1</th>\n",
       "      <td>Kauan</td>\n",
       "      <td>23</td>\n",
       "      <td>Schroeder</td>\n",
       "      <td>3500.0</td>\n",
       "      <td>33</td>\n",
       "    </tr>\n",
       "    <tr>\n",
       "      <th>2</th>\n",
       "      <td>Stephane</td>\n",
       "      <td>24</td>\n",
       "      <td>Parnaiba</td>\n",
       "      <td>7250.0</td>\n",
       "      <td>34</td>\n",
       "    </tr>\n",
       "    <tr>\n",
       "      <th>3</th>\n",
       "      <td>Lucas</td>\n",
       "      <td>22</td>\n",
       "      <td>Guaramirim</td>\n",
       "      <td>50000.0</td>\n",
       "      <td>32</td>\n",
       "    </tr>\n",
       "    <tr>\n",
       "      <th>4</th>\n",
       "      <td>Mauricio</td>\n",
       "      <td>30</td>\n",
       "      <td>Porto Alegre</td>\n",
       "      <td>NaN</td>\n",
       "      <td>40</td>\n",
       "    </tr>\n",
       "  </tbody>\n",
       "</table>\n",
       "</div>"
      ],
      "text/plain": [
       "  Nome Completo  Idade        Cidade  Salário  Idade em 10 anos\n",
       "0           Ana     22       Jaraguá   2000.0                32\n",
       "1         Kauan     23     Schroeder   3500.0                33\n",
       "2      Stephane     24      Parnaiba   7250.0                34\n",
       "3         Lucas     22    Guaramirim  50000.0                32\n",
       "4      Mauricio     30  Porto Alegre      NaN                40"
      ]
     },
     "execution_count": 141,
     "metadata": {},
     "output_type": "execute_result"
    }
   ],
   "source": [
    "df"
   ]
  },
  {
   "cell_type": "code",
   "execution_count": 99,
   "id": "126ea6b4-0c1c-428e-b0a0-f2b101573c82",
   "metadata": {},
   "outputs": [],
   "source": [
    "df = df.rename(columns={'Nome': 'Nome Completo'})"
   ]
  },
  {
   "cell_type": "code",
   "execution_count": 139,
   "id": "fdb260ff-6802-47bf-9caf-8ab4da004f6a",
   "metadata": {},
   "outputs": [
    {
     "data": {
      "text/html": [
       "<div>\n",
       "<style scoped>\n",
       "    .dataframe tbody tr th:only-of-type {\n",
       "        vertical-align: middle;\n",
       "    }\n",
       "\n",
       "    .dataframe tbody tr th {\n",
       "        vertical-align: top;\n",
       "    }\n",
       "\n",
       "    .dataframe thead th {\n",
       "        text-align: right;\n",
       "    }\n",
       "</style>\n",
       "<table border=\"1\" class=\"dataframe\">\n",
       "  <thead>\n",
       "    <tr style=\"text-align: right;\">\n",
       "      <th></th>\n",
       "      <th>Nome Completo</th>\n",
       "      <th>Idade</th>\n",
       "      <th>Cidade</th>\n",
       "      <th>Salário</th>\n",
       "      <th>Idade em 10 anos</th>\n",
       "    </tr>\n",
       "  </thead>\n",
       "  <tbody>\n",
       "    <tr>\n",
       "      <th>0</th>\n",
       "      <td>Ana</td>\n",
       "      <td>22</td>\n",
       "      <td>Jaraguá</td>\n",
       "      <td>2000.0</td>\n",
       "      <td>32</td>\n",
       "    </tr>\n",
       "    <tr>\n",
       "      <th>1</th>\n",
       "      <td>Lucas</td>\n",
       "      <td>22</td>\n",
       "      <td>Guaramirim</td>\n",
       "      <td>50000.0</td>\n",
       "      <td>32</td>\n",
       "    </tr>\n",
       "    <tr>\n",
       "      <th>2</th>\n",
       "      <td>Kauan</td>\n",
       "      <td>23</td>\n",
       "      <td>Schroeder</td>\n",
       "      <td>3500.0</td>\n",
       "      <td>33</td>\n",
       "    </tr>\n",
       "    <tr>\n",
       "      <th>3</th>\n",
       "      <td>Stephane</td>\n",
       "      <td>24</td>\n",
       "      <td>Parnaiba</td>\n",
       "      <td>7250.0</td>\n",
       "      <td>34</td>\n",
       "    </tr>\n",
       "    <tr>\n",
       "      <th>4</th>\n",
       "      <td>Mauricio</td>\n",
       "      <td>30</td>\n",
       "      <td>Porto Alegre</td>\n",
       "      <td>NaN</td>\n",
       "      <td>40</td>\n",
       "    </tr>\n",
       "  </tbody>\n",
       "</table>\n",
       "</div>"
      ],
      "text/plain": [
       "  Nome Completo  Idade        Cidade  Salário  Idade em 10 anos\n",
       "0           Ana     22       Jaraguá   2000.0                32\n",
       "1         Lucas     22    Guaramirim  50000.0                32\n",
       "2         Kauan     23     Schroeder   3500.0                33\n",
       "3      Stephane     24      Parnaiba   7250.0                34\n",
       "4      Mauricio     30  Porto Alegre      NaN                40"
      ]
     },
     "execution_count": 139,
     "metadata": {},
     "output_type": "execute_result"
    }
   ],
   "source": [
    "df.sort_values(by='Idade em 10 anos').reset_index(drop=True)"
   ]
  },
  {
   "cell_type": "code",
   "execution_count": 143,
   "id": "b04055af-fc43-4e86-a55f-ff5a6bc8d1b0",
   "metadata": {},
   "outputs": [],
   "source": [
    "agrupamento_por_cidade = df.groupby('Cidade')['Salário']"
   ]
  },
  {
   "cell_type": "code",
   "execution_count": 145,
   "id": "19e5fe9f-a86c-41ba-9cde-3b4790bef081",
   "metadata": {},
   "outputs": [
    {
     "data": {
      "text/html": [
       "<div>\n",
       "<style scoped>\n",
       "    .dataframe tbody tr th:only-of-type {\n",
       "        vertical-align: middle;\n",
       "    }\n",
       "\n",
       "    .dataframe tbody tr th {\n",
       "        vertical-align: top;\n",
       "    }\n",
       "\n",
       "    .dataframe thead th {\n",
       "        text-align: right;\n",
       "    }\n",
       "</style>\n",
       "<table border=\"1\" class=\"dataframe\">\n",
       "  <thead>\n",
       "    <tr style=\"text-align: right;\">\n",
       "      <th></th>\n",
       "      <th>mean</th>\n",
       "      <th>median</th>\n",
       "      <th>sum</th>\n",
       "      <th>std</th>\n",
       "    </tr>\n",
       "    <tr>\n",
       "      <th>Cidade</th>\n",
       "      <th></th>\n",
       "      <th></th>\n",
       "      <th></th>\n",
       "      <th></th>\n",
       "    </tr>\n",
       "  </thead>\n",
       "  <tbody>\n",
       "    <tr>\n",
       "      <th>Guaramirim</th>\n",
       "      <td>50000.0</td>\n",
       "      <td>50000.0</td>\n",
       "      <td>50000.0</td>\n",
       "      <td>NaN</td>\n",
       "    </tr>\n",
       "    <tr>\n",
       "      <th>Jaraguá</th>\n",
       "      <td>2000.0</td>\n",
       "      <td>2000.0</td>\n",
       "      <td>2000.0</td>\n",
       "      <td>NaN</td>\n",
       "    </tr>\n",
       "    <tr>\n",
       "      <th>Parnaiba</th>\n",
       "      <td>7250.0</td>\n",
       "      <td>7250.0</td>\n",
       "      <td>7250.0</td>\n",
       "      <td>NaN</td>\n",
       "    </tr>\n",
       "    <tr>\n",
       "      <th>Porto Alegre</th>\n",
       "      <td>NaN</td>\n",
       "      <td>NaN</td>\n",
       "      <td>0.0</td>\n",
       "      <td>NaN</td>\n",
       "    </tr>\n",
       "    <tr>\n",
       "      <th>Schroeder</th>\n",
       "      <td>3500.0</td>\n",
       "      <td>3500.0</td>\n",
       "      <td>3500.0</td>\n",
       "      <td>NaN</td>\n",
       "    </tr>\n",
       "  </tbody>\n",
       "</table>\n",
       "</div>"
      ],
      "text/plain": [
       "                 mean   median      sum  std\n",
       "Cidade                                      \n",
       "Guaramirim    50000.0  50000.0  50000.0  NaN\n",
       "Jaraguá        2000.0   2000.0   2000.0  NaN\n",
       "Parnaiba       7250.0   7250.0   7250.0  NaN\n",
       "Porto Alegre      NaN      NaN      0.0  NaN\n",
       "Schroeder      3500.0   3500.0   3500.0  NaN"
      ]
     },
     "execution_count": 145,
     "metadata": {},
     "output_type": "execute_result"
    }
   ],
   "source": [
    "agrupamento_por_cidade.agg(['mean', 'median', 'sum', 'std'])"
   ]
  },
  {
   "cell_type": "code",
   "execution_count": 147,
   "id": "2f21deae-85b8-4c65-b27e-0b22133820fd",
   "metadata": {},
   "outputs": [
    {
     "data": {
      "text/html": [
       "<div>\n",
       "<style scoped>\n",
       "    .dataframe tbody tr th:only-of-type {\n",
       "        vertical-align: middle;\n",
       "    }\n",
       "\n",
       "    .dataframe tbody tr th {\n",
       "        vertical-align: top;\n",
       "    }\n",
       "\n",
       "    .dataframe thead th {\n",
       "        text-align: right;\n",
       "    }\n",
       "</style>\n",
       "<table border=\"1\" class=\"dataframe\">\n",
       "  <thead>\n",
       "    <tr style=\"text-align: right;\">\n",
       "      <th></th>\n",
       "      <th>Nome Completo</th>\n",
       "      <th>Idade</th>\n",
       "      <th>Cidade</th>\n",
       "      <th>Salário</th>\n",
       "      <th>Idade em 10 anos</th>\n",
       "    </tr>\n",
       "  </thead>\n",
       "  <tbody>\n",
       "    <tr>\n",
       "      <th>0</th>\n",
       "      <td>False</td>\n",
       "      <td>False</td>\n",
       "      <td>False</td>\n",
       "      <td>False</td>\n",
       "      <td>False</td>\n",
       "    </tr>\n",
       "    <tr>\n",
       "      <th>1</th>\n",
       "      <td>False</td>\n",
       "      <td>False</td>\n",
       "      <td>False</td>\n",
       "      <td>False</td>\n",
       "      <td>False</td>\n",
       "    </tr>\n",
       "    <tr>\n",
       "      <th>2</th>\n",
       "      <td>False</td>\n",
       "      <td>False</td>\n",
       "      <td>False</td>\n",
       "      <td>False</td>\n",
       "      <td>False</td>\n",
       "    </tr>\n",
       "    <tr>\n",
       "      <th>3</th>\n",
       "      <td>False</td>\n",
       "      <td>False</td>\n",
       "      <td>False</td>\n",
       "      <td>False</td>\n",
       "      <td>False</td>\n",
       "    </tr>\n",
       "    <tr>\n",
       "      <th>4</th>\n",
       "      <td>False</td>\n",
       "      <td>False</td>\n",
       "      <td>False</td>\n",
       "      <td>True</td>\n",
       "      <td>False</td>\n",
       "    </tr>\n",
       "  </tbody>\n",
       "</table>\n",
       "</div>"
      ],
      "text/plain": [
       "   Nome Completo  Idade  Cidade  Salário  Idade em 10 anos\n",
       "0          False  False   False    False             False\n",
       "1          False  False   False    False             False\n",
       "2          False  False   False    False             False\n",
       "3          False  False   False    False             False\n",
       "4          False  False   False     True             False"
      ]
     },
     "execution_count": 147,
     "metadata": {},
     "output_type": "execute_result"
    }
   ],
   "source": [
    "df.isnull()"
   ]
  },
  {
   "cell_type": "code",
   "execution_count": 149,
   "id": "01b12f8f-981b-4c9d-98ea-4384782a80fd",
   "metadata": {},
   "outputs": [
    {
     "data": {
      "text/html": [
       "<div>\n",
       "<style scoped>\n",
       "    .dataframe tbody tr th:only-of-type {\n",
       "        vertical-align: middle;\n",
       "    }\n",
       "\n",
       "    .dataframe tbody tr th {\n",
       "        vertical-align: top;\n",
       "    }\n",
       "\n",
       "    .dataframe thead th {\n",
       "        text-align: right;\n",
       "    }\n",
       "</style>\n",
       "<table border=\"1\" class=\"dataframe\">\n",
       "  <thead>\n",
       "    <tr style=\"text-align: right;\">\n",
       "      <th></th>\n",
       "      <th>Nome Completo</th>\n",
       "      <th>Idade</th>\n",
       "      <th>Cidade</th>\n",
       "      <th>Salário</th>\n",
       "      <th>Idade em 10 anos</th>\n",
       "    </tr>\n",
       "  </thead>\n",
       "  <tbody>\n",
       "    <tr>\n",
       "      <th>0</th>\n",
       "      <td>Ana</td>\n",
       "      <td>22</td>\n",
       "      <td>Jaraguá</td>\n",
       "      <td>2000.0</td>\n",
       "      <td>32</td>\n",
       "    </tr>\n",
       "    <tr>\n",
       "      <th>1</th>\n",
       "      <td>Kauan</td>\n",
       "      <td>23</td>\n",
       "      <td>Schroeder</td>\n",
       "      <td>3500.0</td>\n",
       "      <td>33</td>\n",
       "    </tr>\n",
       "    <tr>\n",
       "      <th>2</th>\n",
       "      <td>Stephane</td>\n",
       "      <td>24</td>\n",
       "      <td>Parnaiba</td>\n",
       "      <td>7250.0</td>\n",
       "      <td>34</td>\n",
       "    </tr>\n",
       "    <tr>\n",
       "      <th>3</th>\n",
       "      <td>Lucas</td>\n",
       "      <td>22</td>\n",
       "      <td>Guaramirim</td>\n",
       "      <td>50000.0</td>\n",
       "      <td>32</td>\n",
       "    </tr>\n",
       "  </tbody>\n",
       "</table>\n",
       "</div>"
      ],
      "text/plain": [
       "  Nome Completo  Idade      Cidade  Salário  Idade em 10 anos\n",
       "0           Ana     22     Jaraguá   2000.0                32\n",
       "1         Kauan     23   Schroeder   3500.0                33\n",
       "2      Stephane     24    Parnaiba   7250.0                34\n",
       "3         Lucas     22  Guaramirim  50000.0                32"
      ]
     },
     "execution_count": 149,
     "metadata": {},
     "output_type": "execute_result"
    }
   ],
   "source": [
    "df.dropna()"
   ]
  },
  {
   "cell_type": "code",
   "execution_count": 157,
   "id": "980d3b93-688e-4408-b08a-87d383f43d69",
   "metadata": {},
   "outputs": [
    {
     "data": {
      "text/html": [
       "<div>\n",
       "<style scoped>\n",
       "    .dataframe tbody tr th:only-of-type {\n",
       "        vertical-align: middle;\n",
       "    }\n",
       "\n",
       "    .dataframe tbody tr th {\n",
       "        vertical-align: top;\n",
       "    }\n",
       "\n",
       "    .dataframe thead th {\n",
       "        text-align: right;\n",
       "    }\n",
       "</style>\n",
       "<table border=\"1\" class=\"dataframe\">\n",
       "  <thead>\n",
       "    <tr style=\"text-align: right;\">\n",
       "      <th></th>\n",
       "      <th>Nome Completo</th>\n",
       "      <th>Idade</th>\n",
       "      <th>Cidade</th>\n",
       "      <th>Salário</th>\n",
       "      <th>Idade em 10 anos</th>\n",
       "    </tr>\n",
       "  </thead>\n",
       "  <tbody>\n",
       "    <tr>\n",
       "      <th>0</th>\n",
       "      <td>Ana</td>\n",
       "      <td>22</td>\n",
       "      <td>Jaraguá</td>\n",
       "      <td>2000.0</td>\n",
       "      <td>32</td>\n",
       "    </tr>\n",
       "    <tr>\n",
       "      <th>1</th>\n",
       "      <td>Kauan</td>\n",
       "      <td>23</td>\n",
       "      <td>Schroeder</td>\n",
       "      <td>3500.0</td>\n",
       "      <td>33</td>\n",
       "    </tr>\n",
       "    <tr>\n",
       "      <th>2</th>\n",
       "      <td>Stephane</td>\n",
       "      <td>24</td>\n",
       "      <td>Parnaiba</td>\n",
       "      <td>7250.0</td>\n",
       "      <td>34</td>\n",
       "    </tr>\n",
       "    <tr>\n",
       "      <th>3</th>\n",
       "      <td>Lucas</td>\n",
       "      <td>22</td>\n",
       "      <td>Guaramirim</td>\n",
       "      <td>50000.0</td>\n",
       "      <td>32</td>\n",
       "    </tr>\n",
       "    <tr>\n",
       "      <th>4</th>\n",
       "      <td>Mauricio</td>\n",
       "      <td>30</td>\n",
       "      <td>Porto Alegre</td>\n",
       "      <td>15687.5</td>\n",
       "      <td>40</td>\n",
       "    </tr>\n",
       "  </tbody>\n",
       "</table>\n",
       "</div>"
      ],
      "text/plain": [
       "  Nome Completo  Idade        Cidade  Salário  Idade em 10 anos\n",
       "0           Ana     22       Jaraguá   2000.0                32\n",
       "1         Kauan     23     Schroeder   3500.0                33\n",
       "2      Stephane     24      Parnaiba   7250.0                34\n",
       "3         Lucas     22    Guaramirim  50000.0                32\n",
       "4      Mauricio     30  Porto Alegre  15687.5                40"
      ]
     },
     "execution_count": 157,
     "metadata": {},
     "output_type": "execute_result"
    }
   ],
   "source": [
    "df.fillna(df['Salário'].mean())"
   ]
  },
  {
   "cell_type": "code",
   "execution_count": 159,
   "id": "1cc70fbd-96a6-438a-b7cb-3c80eb13afaa",
   "metadata": {},
   "outputs": [],
   "source": [
    "df.to_csv('lista_de_funcionarios')"
   ]
  },
  {
   "cell_type": "code",
   "execution_count": 212,
   "id": "ee80f42e-738c-4d51-a856-43246ed8fac2",
   "metadata": {},
   "outputs": [],
   "source": [
    "#lISTA DE TAREFAS\n",
    "import pandas as dp\n",
    "Itens = {\n",
    "    'Produto': ['Teclado', 'Mouse', 'Caneta', 'Caderno', 'Fone'],\n",
    "    'Categoria': ['Eletrônico', 'Eletrônico', 'Escritório', 'Escritório', 'Eletrônico'],\n",
    "    'Vendas': [120, 85, 300, 150, 200],\n",
    "    'Preco': [80.00, 40.00, 2.00, 15.00, 120.00]\n",
    "}\n",
    "Itens_data_frame = dp.DataFrame(Itens)\n",
    "\n"
   ]
  },
  {
   "cell_type": "code",
   "execution_count": 214,
   "id": "8ef1e287-7df2-4331-9fdf-b272604c7c21",
   "metadata": {},
   "outputs": [
    {
     "data": {
      "text/html": [
       "<div>\n",
       "<style scoped>\n",
       "    .dataframe tbody tr th:only-of-type {\n",
       "        vertical-align: middle;\n",
       "    }\n",
       "\n",
       "    .dataframe tbody tr th {\n",
       "        vertical-align: top;\n",
       "    }\n",
       "\n",
       "    .dataframe thead th {\n",
       "        text-align: right;\n",
       "    }\n",
       "</style>\n",
       "<table border=\"1\" class=\"dataframe\">\n",
       "  <thead>\n",
       "    <tr style=\"text-align: right;\">\n",
       "      <th></th>\n",
       "      <th>Produto</th>\n",
       "      <th>Categoria</th>\n",
       "      <th>Vendas</th>\n",
       "      <th>Preco</th>\n",
       "    </tr>\n",
       "  </thead>\n",
       "  <tbody>\n",
       "    <tr>\n",
       "      <th>0</th>\n",
       "      <td>Teclado</td>\n",
       "      <td>Eletrônico</td>\n",
       "      <td>120</td>\n",
       "      <td>80.0</td>\n",
       "    </tr>\n",
       "    <tr>\n",
       "      <th>1</th>\n",
       "      <td>Mouse</td>\n",
       "      <td>Eletrônico</td>\n",
       "      <td>85</td>\n",
       "      <td>40.0</td>\n",
       "    </tr>\n",
       "    <tr>\n",
       "      <th>2</th>\n",
       "      <td>Caneta</td>\n",
       "      <td>Escritório</td>\n",
       "      <td>300</td>\n",
       "      <td>2.0</td>\n",
       "    </tr>\n",
       "    <tr>\n",
       "      <th>3</th>\n",
       "      <td>Caderno</td>\n",
       "      <td>Escritório</td>\n",
       "      <td>150</td>\n",
       "      <td>15.0</td>\n",
       "    </tr>\n",
       "    <tr>\n",
       "      <th>4</th>\n",
       "      <td>Fone</td>\n",
       "      <td>Eletrônico</td>\n",
       "      <td>200</td>\n",
       "      <td>120.0</td>\n",
       "    </tr>\n",
       "  </tbody>\n",
       "</table>\n",
       "</div>"
      ],
      "text/plain": [
       "   Produto   Categoria  Vendas  Preco\n",
       "0  Teclado  Eletrônico     120   80.0\n",
       "1    Mouse  Eletrônico      85   40.0\n",
       "2   Caneta  Escritório     300    2.0\n",
       "3  Caderno  Escritório     150   15.0\n",
       "4     Fone  Eletrônico     200  120.0"
      ]
     },
     "execution_count": 214,
     "metadata": {},
     "output_type": "execute_result"
    }
   ],
   "source": [
    "Itens_data_frame"
   ]
  },
  {
   "cell_type": "code",
   "execution_count": 236,
   "id": "8f8aad49-63a3-4fb9-926c-0d0bafa11c73",
   "metadata": {},
   "outputs": [],
   "source": [
    "Itens_data_frame['Faturamento'] = Itens_data_frame ['Vendas'] * Itens_data_frame['Preco']"
   ]
  },
  {
   "cell_type": "code",
   "execution_count": 238,
   "id": "55926b0f-b61e-4585-9e4d-210d9efa1dbf",
   "metadata": {},
   "outputs": [
    {
     "data": {
      "text/html": [
       "<div>\n",
       "<style scoped>\n",
       "    .dataframe tbody tr th:only-of-type {\n",
       "        vertical-align: middle;\n",
       "    }\n",
       "\n",
       "    .dataframe tbody tr th {\n",
       "        vertical-align: top;\n",
       "    }\n",
       "\n",
       "    .dataframe thead th {\n",
       "        text-align: right;\n",
       "    }\n",
       "</style>\n",
       "<table border=\"1\" class=\"dataframe\">\n",
       "  <thead>\n",
       "    <tr style=\"text-align: right;\">\n",
       "      <th></th>\n",
       "      <th>Produto</th>\n",
       "      <th>Categoria</th>\n",
       "      <th>Vendas</th>\n",
       "      <th>Preco</th>\n",
       "      <th>Faturamento</th>\n",
       "    </tr>\n",
       "  </thead>\n",
       "  <tbody>\n",
       "    <tr>\n",
       "      <th>0</th>\n",
       "      <td>Teclado</td>\n",
       "      <td>Eletrônico</td>\n",
       "      <td>120</td>\n",
       "      <td>80.0</td>\n",
       "      <td>9600.0</td>\n",
       "    </tr>\n",
       "    <tr>\n",
       "      <th>1</th>\n",
       "      <td>Mouse</td>\n",
       "      <td>Eletrônico</td>\n",
       "      <td>85</td>\n",
       "      <td>40.0</td>\n",
       "      <td>3400.0</td>\n",
       "    </tr>\n",
       "    <tr>\n",
       "      <th>2</th>\n",
       "      <td>Caneta</td>\n",
       "      <td>Escritório</td>\n",
       "      <td>300</td>\n",
       "      <td>2.0</td>\n",
       "      <td>600.0</td>\n",
       "    </tr>\n",
       "    <tr>\n",
       "      <th>3</th>\n",
       "      <td>Caderno</td>\n",
       "      <td>Escritório</td>\n",
       "      <td>150</td>\n",
       "      <td>15.0</td>\n",
       "      <td>2250.0</td>\n",
       "    </tr>\n",
       "    <tr>\n",
       "      <th>4</th>\n",
       "      <td>Fone</td>\n",
       "      <td>Eletrônico</td>\n",
       "      <td>200</td>\n",
       "      <td>120.0</td>\n",
       "      <td>24000.0</td>\n",
       "    </tr>\n",
       "  </tbody>\n",
       "</table>\n",
       "</div>"
      ],
      "text/plain": [
       "   Produto   Categoria  Vendas  Preco  Faturamento\n",
       "0  Teclado  Eletrônico     120   80.0       9600.0\n",
       "1    Mouse  Eletrônico      85   40.0       3400.0\n",
       "2   Caneta  Escritório     300    2.0        600.0\n",
       "3  Caderno  Escritório     150   15.0       2250.0\n",
       "4     Fone  Eletrônico     200  120.0      24000.0"
      ]
     },
     "execution_count": 238,
     "metadata": {},
     "output_type": "execute_result"
    }
   ],
   "source": [
    "Itens_data_frame"
   ]
  },
  {
   "cell_type": "code",
   "execution_count": 246,
   "id": "430f2488-58a9-4e5a-ac0e-2e11367aef0c",
   "metadata": {},
   "outputs": [
    {
     "data": {
      "text/html": [
       "<div>\n",
       "<style scoped>\n",
       "    .dataframe tbody tr th:only-of-type {\n",
       "        vertical-align: middle;\n",
       "    }\n",
       "\n",
       "    .dataframe tbody tr th {\n",
       "        vertical-align: top;\n",
       "    }\n",
       "\n",
       "    .dataframe thead th {\n",
       "        text-align: right;\n",
       "    }\n",
       "</style>\n",
       "<table border=\"1\" class=\"dataframe\">\n",
       "  <thead>\n",
       "    <tr style=\"text-align: right;\">\n",
       "      <th></th>\n",
       "      <th>Produto</th>\n",
       "      <th>Categoria</th>\n",
       "      <th>Vendas</th>\n",
       "      <th>Preco</th>\n",
       "      <th>Faturamento</th>\n",
       "    </tr>\n",
       "  </thead>\n",
       "  <tbody>\n",
       "    <tr>\n",
       "      <th>0</th>\n",
       "      <td>Teclado</td>\n",
       "      <td>Eletrônico</td>\n",
       "      <td>120</td>\n",
       "      <td>80.0</td>\n",
       "      <td>9600.0</td>\n",
       "    </tr>\n",
       "    <tr>\n",
       "      <th>4</th>\n",
       "      <td>Fone</td>\n",
       "      <td>Eletrônico</td>\n",
       "      <td>200</td>\n",
       "      <td>120.0</td>\n",
       "      <td>24000.0</td>\n",
       "    </tr>\n",
       "  </tbody>\n",
       "</table>\n",
       "</div>"
      ],
      "text/plain": [
       "   Produto   Categoria  Vendas  Preco  Faturamento\n",
       "0  Teclado  Eletrônico     120   80.0       9600.0\n",
       "4     Fone  Eletrônico     200  120.0      24000.0"
      ]
     },
     "execution_count": 246,
     "metadata": {},
     "output_type": "execute_result"
    }
   ],
   "source": [
    "Itens_data_frame.loc[Itens_data_frame['Faturamento'] > 5000]"
   ]
  },
  {
   "cell_type": "code",
   "execution_count": 256,
   "id": "0de007ea-c0dc-4abf-bae8-841a2289e6b4",
   "metadata": {},
   "outputs": [],
   "source": [
    "agrupamento_por_categoria = Itens_data_frame.groupby('Categoria')['Faturamento'].sum()"
   ]
  },
  {
   "cell_type": "code",
   "execution_count": 265,
   "id": "74dfbe87-ec43-454d-8d91-1c36e51f6556",
   "metadata": {},
   "outputs": [],
   "source": [
    "Itens_data_frame.to_csv('Lista_produtos')"
   ]
  },
  {
   "cell_type": "code",
   "execution_count": 263,
   "id": "7f4ff7ac-a4dd-477b-a6a2-9b601955c71b",
   "metadata": {},
   "outputs": [
    {
     "data": {
      "image/png": "[encoded data removed]",
      "text/plain": [
       "<Figure size 640x480 with 1 Axes>"
      ]
     },
     "metadata": {},
     "output_type": "display_data"
    }
   ],
   "source": [
    "import matplotlib.pyplot as plt \n",
    "plt.bar(agrupamento_por_categoria.index, agrupamento_por_categoria.values)\n",
    "plt.xlabel(\"Categoria de produtos\")\n",
    "plt.ylabel(\"Valor em R$\")\n",
    "plt.title(\"Faturamento\")\n",
    "plt.show()"
   ]
  },
  {
   "cell_type": "code",
   "execution_count": null,
   "id": "616d33b3-aad1-490e-9f8e-fa0a32c2ea24",
   "metadata": {},
   "outputs": [],
   "source": []
  }
 ],
 "metadata": {
  "kernelspec": {
   "display_name": "Python 3 (ipykernel)",
   "language": "python",
   "name": "python3"
  },
  "language_info": {
   "codemirror_mode": {
    "name": "ipython",
    "version": 3
   },
   "file_extension": ".py",
   "mimetype": "text/x-python",
   "name": "python",
   "nbconvert_exporter": "python",
   "pygments_lexer": "ipython3",
   "version": "3.12.4"
  }
 },
 "nbformat": 4,
 "nbformat_minor": 5
}
